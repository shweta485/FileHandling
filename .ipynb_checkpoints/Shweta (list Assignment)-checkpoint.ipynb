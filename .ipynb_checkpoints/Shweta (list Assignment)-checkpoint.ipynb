{
 "cells": [
  {
   "cell_type": "markdown",
   "id": "a211316f",
   "metadata": {},
   "source": [
    "# min()\n"
   ]
  },
  {
   "cell_type": "code",
   "execution_count": null,
   "id": "4bfdf7a7",
   "metadata": {},
   "outputs": [],
   "source": [
    "# The min() function returns the item with the lowest value."
   ]
  },
  {
   "cell_type": "code",
   "execution_count": 23,
   "id": "cd99f4c3",
   "metadata": {},
   "outputs": [],
   "source": [
    "l1 = [5,7,8,1,4]"
   ]
  },
  {
   "cell_type": "code",
   "execution_count": 3,
   "id": "72b05882",
   "metadata": {},
   "outputs": [
    {
     "name": "stdout",
     "output_type": "stream",
     "text": [
      "10\n"
     ]
    }
   ],
   "source": [
    "numbers = [10,25,85,42,63]\n",
    "print(min(numbers))\n"
   ]
  },
  {
   "cell_type": "code",
   "execution_count": 2,
   "id": "9290c6c5",
   "metadata": {},
   "outputs": [
    {
     "name": "stdout",
     "output_type": "stream",
     "text": [
      "10\n"
     ]
    }
   ],
   "source": [
    "try:\n",
    "    print(min(numbers))\n",
    "except Exception as e:\n",
    "    print(e)"
   ]
  },
  {
   "cell_type": "code",
   "execution_count": 3,
   "id": "e0a076cb",
   "metadata": {},
   "outputs": [
    {
     "name": "stdout",
     "output_type": "stream",
     "text": [
      "10\n"
     ]
    }
   ],
   "source": [
    "def min_number(number):\n",
    "    try:\n",
    "        print(min(numbers))\n",
    "    except Exception as e:\n",
    "        print(e)\n",
    "min_number(numbers)"
   ]
  },
  {
   "cell_type": "code",
   "execution_count": 38,
   "id": "1a426bd0",
   "metadata": {},
   "outputs": [],
   "source": [
    "class List_Methods:\n",
    "    def __init__(self, variable):\n",
    "        self.variable = variable\n",
    "    \n",
    "    def min_number(self):\n",
    "        print(min(self.variable))\n",
    "        \n",
    "    def append_method(self,sample):\n",
    "        self.variable.append(sample)\n",
    "        print(self.variable)"
   ]
  },
  {
   "cell_type": "code",
   "execution_count": 39,
   "id": "92015d55",
   "metadata": {},
   "outputs": [],
   "source": [
    "lm = List_Methods(l1)"
   ]
  },
  {
   "cell_type": "code",
   "execution_count": 40,
   "id": "f0ffa6e6",
   "metadata": {},
   "outputs": [
    {
     "name": "stdout",
     "output_type": "stream",
     "text": [
      "[5, 7, 8, 1, 4, 45]\n"
     ]
    }
   ],
   "source": [
    "lm.append_method(45)"
   ]
  },
  {
   "cell_type": "code",
   "execution_count": 31,
   "id": "980e0020",
   "metadata": {},
   "outputs": [
    {
     "data": {
      "text/plain": [
       "[5, 7, 8, 1, 4]"
      ]
     },
     "execution_count": 31,
     "metadata": {},
     "output_type": "execute_result"
    }
   ],
   "source": [
    "l1"
   ]
  },
  {
   "cell_type": "code",
   "execution_count": null,
   "id": "a15a8030",
   "metadata": {},
   "outputs": [],
   "source": []
  },
  {
   "cell_type": "code",
   "execution_count": 32,
   "id": "2d15c01c",
   "metadata": {},
   "outputs": [],
   "source": []
  },
  {
   "cell_type": "code",
   "execution_count": 21,
   "id": "f520c51d",
   "metadata": {},
   "outputs": [
    {
     "name": "stdout",
     "output_type": "stream",
     "text": [
      "1\n"
     ]
    }
   ],
   "source": [
    "lm.min_number()"
   ]
  },
  {
   "cell_type": "markdown",
   "id": "a8274496",
   "metadata": {},
   "source": [
    "# max()"
   ]
  },
  {
   "cell_type": "code",
   "execution_count": null,
   "id": "7f35d956",
   "metadata": {},
   "outputs": [],
   "source": [
    "# The max() function returns the item with the largest value."
   ]
  },
  {
   "cell_type": "code",
   "execution_count": 4,
   "id": "0988bd85",
   "metadata": {},
   "outputs": [
    {
     "name": "stdout",
     "output_type": "stream",
     "text": [
      "sam\n"
     ]
    }
   ],
   "source": [
    "name = ['sam','python','c','java']\n",
    "print(max(name))"
   ]
  },
  {
   "cell_type": "code",
   "execution_count": 5,
   "id": "2494f47b",
   "metadata": {},
   "outputs": [
    {
     "name": "stdout",
     "output_type": "stream",
     "text": [
      "sam\n"
     ]
    }
   ],
   "source": [
    "try:\n",
    "    print(max(name))\n",
    "except Exception as e:\n",
    "    print(e)\n",
    "    "
   ]
  },
  {
   "cell_type": "code",
   "execution_count": 6,
   "id": "107067fa",
   "metadata": {},
   "outputs": [
    {
     "name": "stdout",
     "output_type": "stream",
     "text": [
      "sam\n"
     ]
    }
   ],
   "source": [
    "def max_name(name):\n",
    "    try:\n",
    "        print(max(name))\n",
    "    except Exception as e:\n",
    "        print(e)\n",
    "max_name(name)"
   ]
  },
  {
   "cell_type": "markdown",
   "id": "3bac6184",
   "metadata": {},
   "source": [
    "# insert()"
   ]
  },
  {
   "cell_type": "code",
   "execution_count": null,
   "id": "b5cf8cb8",
   "metadata": {},
   "outputs": [],
   "source": [
    "# The insert() method inserts an element to the list at the specified index."
   ]
  },
  {
   "cell_type": "code",
   "execution_count": 7,
   "id": "6b2d3a4d",
   "metadata": {},
   "outputs": [
    {
     "data": {
      "text/plain": [
       "[10, 20, 30, 30, 40, 50, 13.5]"
      ]
     },
     "execution_count": 7,
     "metadata": {},
     "output_type": "execute_result"
    }
   ],
   "source": [
    "l = [10,20,30,30,40,50,13.5]\n",
    "l"
   ]
  },
  {
   "cell_type": "code",
   "execution_count": 8,
   "id": "57d02ef0",
   "metadata": {},
   "outputs": [
    {
     "data": {
      "text/plain": [
       "[10, 20, 30, 30, 8, 40, 50, 13.5]"
      ]
     },
     "execution_count": 8,
     "metadata": {},
     "output_type": "execute_result"
    }
   ],
   "source": [
    "l.insert(4,8)\n",
    "l"
   ]
  },
  {
   "cell_type": "code",
   "execution_count": 9,
   "id": "114b2f58",
   "metadata": {},
   "outputs": [
    {
     "name": "stdout",
     "output_type": "stream",
     "text": [
      "[10, 20, 30, 30, 8, 8, 40, 50, 13.5]\n"
     ]
    }
   ],
   "source": [
    "try:\n",
    "    l.insert(4,8)\n",
    "    print(l)\n",
    "except Exception as e:\n",
    "    print(e)"
   ]
  },
  {
   "cell_type": "code",
   "execution_count": 10,
   "id": "2dc6c895",
   "metadata": {},
   "outputs": [
    {
     "name": "stdout",
     "output_type": "stream",
     "text": [
      "[10, 20, 30, 30, 8, 8, 8, 40, 50, 13.5]\n"
     ]
    }
   ],
   "source": [
    "def insert_num(index):\n",
    "    try:\n",
    "        l.insert(4,8)\n",
    "        print(l)\n",
    "    except Exception as e:\n",
    "        print(e)\n",
    "insert_num(l)"
   ]
  },
  {
   "cell_type": "markdown",
   "id": "9b3e5e88",
   "metadata": {},
   "source": [
    "# count()"
   ]
  },
  {
   "cell_type": "code",
   "execution_count": null,
   "id": "bc0c334d",
   "metadata": {},
   "outputs": [],
   "source": [
    "# The count() method returns the number of times the specified element appears in the list."
   ]
  },
  {
   "cell_type": "code",
   "execution_count": 11,
   "id": "f0fbe4cb",
   "metadata": {},
   "outputs": [
    {
     "data": {
      "text/plain": [
       "[10, 20, 30, 40, 40, 50, 60, 40]"
      ]
     },
     "execution_count": 11,
     "metadata": {},
     "output_type": "execute_result"
    }
   ],
   "source": [
    "l = [10,20,30,40,40,50,60,40]\n",
    "l"
   ]
  },
  {
   "cell_type": "code",
   "execution_count": 12,
   "id": "d77d9372",
   "metadata": {},
   "outputs": [
    {
     "data": {
      "text/plain": [
       "3"
      ]
     },
     "execution_count": 12,
     "metadata": {},
     "output_type": "execute_result"
    }
   ],
   "source": [
    "l.count(40)"
   ]
  },
  {
   "cell_type": "code",
   "execution_count": 13,
   "id": "aab9f0b2",
   "metadata": {},
   "outputs": [
    {
     "name": "stdout",
     "output_type": "stream",
     "text": [
      "3\n"
     ]
    }
   ],
   "source": [
    "try:\n",
    "    print(l.count(40))\n",
    "except Exception as e:\n",
    "    print(e)\n",
    "    "
   ]
  },
  {
   "cell_type": "code",
   "execution_count": 14,
   "id": "aeba4576",
   "metadata": {},
   "outputs": [
    {
     "name": "stdout",
     "output_type": "stream",
     "text": [
      "3\n"
     ]
    }
   ],
   "source": [
    "def count_num(value):\n",
    "    try:\n",
    "        print(l.count(40))\n",
    "    except Exception as e:\n",
    "        print(e)\n",
    "count_num(l)"
   ]
  },
  {
   "cell_type": "markdown",
   "id": "41eeef47",
   "metadata": {},
   "source": [
    "# index()"
   ]
  },
  {
   "cell_type": "code",
   "execution_count": null,
   "id": "936760c8",
   "metadata": {},
   "outputs": [],
   "source": [
    "# Returns the index of the first element with the specified value."
   ]
  },
  {
   "cell_type": "code",
   "execution_count": 15,
   "id": "2cbeed5a",
   "metadata": {},
   "outputs": [
    {
     "data": {
      "text/plain": [
       "['shweta', 10, 45, 6.3, 'python', 56]"
      ]
     },
     "execution_count": 15,
     "metadata": {},
     "output_type": "execute_result"
    }
   ],
   "source": [
    "f = ['shweta',10,45,6.3,'python',56]\n",
    "f"
   ]
  },
  {
   "cell_type": "code",
   "execution_count": 16,
   "id": "054c808b",
   "metadata": {},
   "outputs": [
    {
     "data": {
      "text/plain": [
       "2"
      ]
     },
     "execution_count": 16,
     "metadata": {},
     "output_type": "execute_result"
    }
   ],
   "source": [
    "f.index(45)"
   ]
  },
  {
   "cell_type": "code",
   "execution_count": 17,
   "id": "606ec3f6",
   "metadata": {},
   "outputs": [
    {
     "name": "stdout",
     "output_type": "stream",
     "text": [
      "2\n"
     ]
    }
   ],
   "source": [
    "try:\n",
    "    print(f.index(45))\n",
    "except Exception as e:\n",
    "    print(e)"
   ]
  },
  {
   "cell_type": "code",
   "execution_count": 18,
   "id": "8171245a",
   "metadata": {},
   "outputs": [
    {
     "name": "stdout",
     "output_type": "stream",
     "text": [
      "2\n"
     ]
    }
   ],
   "source": [
    "def index_num(value):\n",
    "    try:\n",
    "        print(f.index(45))\n",
    "    except Exception as e:\n",
    "        print(e)\n",
    "index_num(f)"
   ]
  },
  {
   "cell_type": "markdown",
   "id": "cd9cb5f0",
   "metadata": {},
   "source": [
    "# append()"
   ]
  },
  {
   "cell_type": "code",
   "execution_count": null,
   "id": "3a5d38a3",
   "metadata": {},
   "outputs": [],
   "source": [
    "# Adds an element at the end of the list."
   ]
  },
  {
   "cell_type": "code",
   "execution_count": 19,
   "id": "fc748a2e",
   "metadata": {},
   "outputs": [
    {
     "data": {
      "text/plain": [
       "['Excel', 'c', 'java', True]"
      ]
     },
     "execution_count": 19,
     "metadata": {},
     "output_type": "execute_result"
    }
   ],
   "source": [
    "s = [\"Excel\",\"c\",\"java\",True]\n",
    "s"
   ]
  },
  {
   "cell_type": "code",
   "execution_count": 20,
   "id": "f45c2db9",
   "metadata": {},
   "outputs": [],
   "source": [
    "s.append(\"python\")"
   ]
  },
  {
   "cell_type": "code",
   "execution_count": 21,
   "id": "627793fb",
   "metadata": {},
   "outputs": [
    {
     "data": {
      "text/plain": [
       "['Excel', 'c', 'java', True, 'python']"
      ]
     },
     "execution_count": 21,
     "metadata": {},
     "output_type": "execute_result"
    }
   ],
   "source": [
    "s"
   ]
  },
  {
   "cell_type": "code",
   "execution_count": 22,
   "id": "fa6fd659",
   "metadata": {
    "scrolled": true
   },
   "outputs": [
    {
     "name": "stdout",
     "output_type": "stream",
     "text": [
      "['Excel', 'c', 'java', True, 'python', 'python']\n"
     ]
    }
   ],
   "source": [
    "try:\n",
    "    s.append(\"python\")\n",
    "    print(s)\n",
    "except Exception as e:\n",
    "    print(e)"
   ]
  },
  {
   "cell_type": "code",
   "execution_count": 23,
   "id": "72ba33b2",
   "metadata": {},
   "outputs": [
    {
     "name": "stdout",
     "output_type": "stream",
     "text": [
      "['Excel', 'c', 'java', True, 'python', 'python', 'python']\n"
     ]
    }
   ],
   "source": [
    "def append_variable(variable):\n",
    "    try:\n",
    "        s.append(\"python\")\n",
    "        print(s)\n",
    "    except Exception as e:\n",
    "        print(e)\n",
    "append_variable(s)"
   ]
  },
  {
   "cell_type": "markdown",
   "id": "f4984d7a",
   "metadata": {},
   "source": [
    "# extend()"
   ]
  },
  {
   "cell_type": "code",
   "execution_count": null,
   "id": "88516fb2",
   "metadata": {},
   "outputs": [],
   "source": [
    "# Add the elements of a list (or any iterable), to the end of the current list."
   ]
  },
  {
   "cell_type": "code",
   "execution_count": 24,
   "id": "686d98bd",
   "metadata": {},
   "outputs": [
    {
     "data": {
      "text/plain": [
       "['shubham', 'omkar', 'vishal', 'kedar', 'ashish']"
      ]
     },
     "execution_count": 24,
     "metadata": {},
     "output_type": "execute_result"
    }
   ],
   "source": [
    "N = [\"shubham\",\"omkar\",\"vishal\",\"kedar\",\"ashish\"]\n",
    "N"
   ]
  },
  {
   "cell_type": "code",
   "execution_count": 25,
   "id": "acaf7dac",
   "metadata": {},
   "outputs": [],
   "source": [
    "N1 = [\"vedant\",\"sahil\",\"mayur\"]"
   ]
  },
  {
   "cell_type": "code",
   "execution_count": 26,
   "id": "2437831e",
   "metadata": {},
   "outputs": [],
   "source": [
    "N.extend(N1)"
   ]
  },
  {
   "cell_type": "code",
   "execution_count": 27,
   "id": "f2fe1477",
   "metadata": {},
   "outputs": [
    {
     "data": {
      "text/plain": [
       "['shubham', 'omkar', 'vishal', 'kedar', 'ashish', 'vedant', 'sahil', 'mayur']"
      ]
     },
     "execution_count": 27,
     "metadata": {},
     "output_type": "execute_result"
    }
   ],
   "source": [
    "N"
   ]
  },
  {
   "cell_type": "code",
   "execution_count": 28,
   "id": "57320657",
   "metadata": {},
   "outputs": [
    {
     "name": "stdout",
     "output_type": "stream",
     "text": [
      "['shubham', 'omkar', 'vishal', 'kedar', 'ashish', 'vedant', 'sahil', 'mayur', 'vedant', 'sahil', 'mayur']\n"
     ]
    }
   ],
   "source": [
    "try:\n",
    "    N.extend(N1)\n",
    "    print(N)\n",
    "except Exception as e:\n",
    "    print(e)\n",
    "    "
   ]
  },
  {
   "cell_type": "code",
   "execution_count": 29,
   "id": "e1d16174",
   "metadata": {},
   "outputs": [
    {
     "name": "stdout",
     "output_type": "stream",
     "text": [
      "['shubham', 'omkar', 'vishal', 'kedar', 'ashish', 'vedant', 'sahil', 'mayur', 'vedant', 'sahil', 'mayur', 'vedant', 'sahil', 'mayur']\n"
     ]
    }
   ],
   "source": [
    "def extend_Names(Name):\n",
    "    try:\n",
    "        N.extend(N1)\n",
    "        print(N)\n",
    "    except Exception as e:\n",
    "        print(e)\n",
    "extend_Names(N)"
   ]
  },
  {
   "cell_type": "markdown",
   "id": "2fa97ba1",
   "metadata": {},
   "source": [
    "# pop()"
   ]
  },
  {
   "cell_type": "code",
   "execution_count": null,
   "id": "3ddb115a",
   "metadata": {},
   "outputs": [],
   "source": [
    "#   The pop() method Removes the element at the specified position"
   ]
  },
  {
   "cell_type": "code",
   "execution_count": 30,
   "id": "d3a51e24",
   "metadata": {},
   "outputs": [
    {
     "data": {
      "text/plain": [
       "['Python', 'Java', 'C++', 'French', 'C']"
      ]
     },
     "execution_count": 30,
     "metadata": {},
     "output_type": "execute_result"
    }
   ],
   "source": [
    "l = ['Python', 'Java', 'C++', 'French', 'C']\n",
    "l"
   ]
  },
  {
   "cell_type": "code",
   "execution_count": 31,
   "id": "5aef9a0a",
   "metadata": {},
   "outputs": [
    {
     "data": {
      "text/plain": [
       "'C'"
      ]
     },
     "execution_count": 31,
     "metadata": {},
     "output_type": "execute_result"
    }
   ],
   "source": [
    "l.pop()"
   ]
  },
  {
   "cell_type": "code",
   "execution_count": 32,
   "id": "d29623a0",
   "metadata": {},
   "outputs": [
    {
     "name": "stdout",
     "output_type": "stream",
     "text": [
      "['Python', 'Java', 'C++']\n"
     ]
    }
   ],
   "source": [
    "try:\n",
    "    l.pop()\n",
    "    print(l)\n",
    "except Exception as e:\n",
    "    print(e)\n",
    "    "
   ]
  },
  {
   "cell_type": "code",
   "execution_count": 33,
   "id": "d66c65f2",
   "metadata": {},
   "outputs": [
    {
     "name": "stdout",
     "output_type": "stream",
     "text": [
      "['Python', 'Java']\n"
     ]
    }
   ],
   "source": [
    "def pop_languages(index):\n",
    "    try:\n",
    "        l.pop()\n",
    "        print(l)\n",
    "    except Exception as e:\n",
    "        print(e)\n",
    "\n",
    "pop_languages(l)    "
   ]
  },
  {
   "cell_type": "markdown",
   "id": "4cce9c6d",
   "metadata": {},
   "source": [
    "# remove()"
   ]
  },
  {
   "cell_type": "code",
   "execution_count": null,
   "id": "693d2990",
   "metadata": {},
   "outputs": [],
   "source": [
    "# It removes specified value of the list."
   ]
  },
  {
   "cell_type": "code",
   "execution_count": 34,
   "id": "a58121e9",
   "metadata": {},
   "outputs": [
    {
     "data": {
      "text/plain": [
       "[2, 3, 5, 7, 9, 11]"
      ]
     },
     "execution_count": 34,
     "metadata": {},
     "output_type": "execute_result"
    }
   ],
   "source": [
    "p = [2, 3, 5, 7, 9, 11]\n",
    "p"
   ]
  },
  {
   "cell_type": "code",
   "execution_count": 35,
   "id": "bf4eb704",
   "metadata": {},
   "outputs": [],
   "source": [
    "p.remove(5)"
   ]
  },
  {
   "cell_type": "code",
   "execution_count": 36,
   "id": "5ae52cdf",
   "metadata": {},
   "outputs": [
    {
     "data": {
      "text/plain": [
       "[2, 3, 7, 9, 11]"
      ]
     },
     "execution_count": 36,
     "metadata": {},
     "output_type": "execute_result"
    }
   ],
   "source": [
    "p"
   ]
  },
  {
   "cell_type": "code",
   "execution_count": 37,
   "id": "e8a9cd8d",
   "metadata": {
    "scrolled": true
   },
   "outputs": [
    {
     "name": "stdout",
     "output_type": "stream",
     "text": [
      "[2, 7, 9, 11]\n"
     ]
    }
   ],
   "source": [
    "try:\n",
    "    p.remove(3)\n",
    "    print(p)\n",
    "except Exception as e:\n",
    "    print(e)"
   ]
  },
  {
   "cell_type": "code",
   "execution_count": 38,
   "id": "706ea9ad",
   "metadata": {},
   "outputs": [
    {
     "name": "stdout",
     "output_type": "stream",
     "text": [
      "[2, 7, 11]\n"
     ]
    }
   ],
   "source": [
    "def prime_Numbers(Number):\n",
    "    try:\n",
    "        p.remove(9)\n",
    "        print(p)\n",
    "    except Exception as e:\n",
    "        print(e)\n",
    "prime_Numbers(p)    "
   ]
  },
  {
   "cell_type": "markdown",
   "id": "cfae9f9f",
   "metadata": {},
   "source": [
    "# reverse()"
   ]
  },
  {
   "cell_type": "code",
   "execution_count": null,
   "id": "f1775fa7",
   "metadata": {},
   "outputs": [],
   "source": [
    "# The method reverse()is Reverses the order of the list."
   ]
  },
  {
   "cell_type": "code",
   "execution_count": 39,
   "id": "61309ef8",
   "metadata": {},
   "outputs": [
    {
     "data": {
      "text/plain": [
       "[2, 4, 6, 8, 10, 12, 14, 16, 18, 20]"
      ]
     },
     "execution_count": 39,
     "metadata": {},
     "output_type": "execute_result"
    }
   ],
   "source": [
    "E = [2,4,6,8,10,12,14,16,18,20]\n",
    "E"
   ]
  },
  {
   "cell_type": "code",
   "execution_count": 40,
   "id": "6190cda0",
   "metadata": {},
   "outputs": [],
   "source": [
    "E.reverse()"
   ]
  },
  {
   "cell_type": "code",
   "execution_count": 41,
   "id": "0fc99f01",
   "metadata": {},
   "outputs": [
    {
     "data": {
      "text/plain": [
       "[20, 18, 16, 14, 12, 10, 8, 6, 4, 2]"
      ]
     },
     "execution_count": 41,
     "metadata": {},
     "output_type": "execute_result"
    }
   ],
   "source": [
    "E"
   ]
  },
  {
   "cell_type": "code",
   "execution_count": 42,
   "id": "e918ccd6",
   "metadata": {},
   "outputs": [
    {
     "name": "stdout",
     "output_type": "stream",
     "text": [
      "[2, 4, 6, 8, 10, 12, 14, 16, 18, 20]\n"
     ]
    }
   ],
   "source": [
    "try:\n",
    "    E.reverse()\n",
    "    print(E)\n",
    "except Exception as e:\n",
    "    print(e)"
   ]
  },
  {
   "cell_type": "code",
   "execution_count": 44,
   "id": "6bd6723c",
   "metadata": {},
   "outputs": [
    {
     "name": "stdout",
     "output_type": "stream",
     "text": [
      "[20, 18, 16, 14, 12, 10, 8, 6, 4, 2]\n"
     ]
    }
   ],
   "source": [
    "def Even_Numbers(Num):\n",
    "    try:\n",
    "        E.reverse()\n",
    "        print(E)\n",
    "    except Exception as e:\n",
    "        print(e)\n",
    "Even_Numbers(E)\n",
    "   "
   ]
  },
  {
   "cell_type": "markdown",
   "id": "7f1ebcc3",
   "metadata": {},
   "source": [
    "# sort()"
   ]
  },
  {
   "cell_type": "code",
   "execution_count": null,
   "id": "822dec19",
   "metadata": {},
   "outputs": [],
   "source": [
    "#  The sort() method Sorts the list."
   ]
  },
  {
   "cell_type": "code",
   "execution_count": 49,
   "id": "e637d8cf",
   "metadata": {},
   "outputs": [],
   "source": [
    "v = ['e', 'a', 'u', 'o', 'i']"
   ]
  },
  {
   "cell_type": "code",
   "execution_count": 50,
   "id": "a757e60f",
   "metadata": {},
   "outputs": [],
   "source": [
    "v.sort()"
   ]
  },
  {
   "cell_type": "code",
   "execution_count": 51,
   "id": "70bbfb6f",
   "metadata": {},
   "outputs": [
    {
     "data": {
      "text/plain": [
       "['a', 'e', 'i', 'o', 'u']"
      ]
     },
     "execution_count": 51,
     "metadata": {},
     "output_type": "execute_result"
    }
   ],
   "source": [
    "v"
   ]
  },
  {
   "cell_type": "code",
   "execution_count": 52,
   "id": "7ca8429c",
   "metadata": {},
   "outputs": [],
   "source": [
    "v.sort(reverse=True)"
   ]
  },
  {
   "cell_type": "code",
   "execution_count": 53,
   "id": "2d407dc0",
   "metadata": {},
   "outputs": [
    {
     "data": {
      "text/plain": [
       "['u', 'o', 'i', 'e', 'a']"
      ]
     },
     "execution_count": 53,
     "metadata": {},
     "output_type": "execute_result"
    }
   ],
   "source": [
    "v"
   ]
  },
  {
   "cell_type": "code",
   "execution_count": 55,
   "id": "f97f62c2",
   "metadata": {},
   "outputs": [
    {
     "name": "stdout",
     "output_type": "stream",
     "text": [
      "['u', 'o', 'i', 'e', 'a']\n"
     ]
    }
   ],
   "source": [
    "try:\n",
    "    v.sort(reverse=True)\n",
    "    print(v)\n",
    "except Exception as e:\n",
    "    print(e)"
   ]
  },
  {
   "cell_type": "code",
   "execution_count": 56,
   "id": "3fe4e281",
   "metadata": {},
   "outputs": [
    {
     "name": "stdout",
     "output_type": "stream",
     "text": [
      "['u', 'o', 'i', 'e', 'a']\n"
     ]
    }
   ],
   "source": [
    "def vowels_variable(variable):\n",
    "    try:\n",
    "        v.sort(reverse=True)\n",
    "        print(v)\n",
    "    except Exception as e:\n",
    "        print(e)\n",
    "vowels_variable(v)"
   ]
  },
  {
   "cell_type": "markdown",
   "id": "78ea5c77",
   "metadata": {},
   "source": [
    "# copy()"
   ]
  },
  {
   "cell_type": "code",
   "execution_count": null,
   "id": "859c3947",
   "metadata": {},
   "outputs": [],
   "source": [
    "# Returns a copy of the list"
   ]
  },
  {
   "cell_type": "code",
   "execution_count": 9,
   "id": "0ab8ac5a",
   "metadata": {},
   "outputs": [],
   "source": [
    "l = [10,20,30,40,50]"
   ]
  },
  {
   "cell_type": "code",
   "execution_count": 12,
   "id": "7bb9dc59",
   "metadata": {},
   "outputs": [
    {
     "data": {
      "text/plain": [
       "[10, 20, 30, 40, 50]"
      ]
     },
     "execution_count": 12,
     "metadata": {},
     "output_type": "execute_result"
    }
   ],
   "source": [
    "l2 = l.copy()\n",
    "l2"
   ]
  },
  {
   "cell_type": "code",
   "execution_count": 13,
   "id": "044dc302",
   "metadata": {},
   "outputs": [
    {
     "name": "stdout",
     "output_type": "stream",
     "text": [
      "[10, 20, 30, 40, 50]\n"
     ]
    }
   ],
   "source": [
    "try:\n",
    "    l2 = l.copy()\n",
    "    print(l2)\n",
    "except Exception as e:\n",
    "    print(e)"
   ]
  },
  {
   "cell_type": "code",
   "execution_count": 15,
   "id": "ab080e7b",
   "metadata": {},
   "outputs": [
    {
     "name": "stdout",
     "output_type": "stream",
     "text": [
      "[10, 20, 30, 40, 50]\n"
     ]
    }
   ],
   "source": [
    "def list_number(number):\n",
    "    try:\n",
    "        l2 = l.copy()\n",
    "        print(l2)\n",
    "    except Exception as e:\n",
    "         print(e)\n",
    "list_number(l2)"
   ]
  },
  {
   "cell_type": "markdown",
   "id": "9ca0385b",
   "metadata": {},
   "source": [
    "# clear()"
   ]
  },
  {
   "cell_type": "code",
   "execution_count": null,
   "id": "e6caa2a7",
   "metadata": {},
   "outputs": [],
   "source": [
    "# Removes all the elements from the list"
   ]
  },
  {
   "cell_type": "code",
   "execution_count": 21,
   "id": "e292a15a",
   "metadata": {},
   "outputs": [],
   "source": [
    "p= [2, 3, 5, 7, 9, 11]"
   ]
  },
  {
   "cell_type": "code",
   "execution_count": 22,
   "id": "39f3780f",
   "metadata": {},
   "outputs": [
    {
     "data": {
      "text/plain": [
       "[]"
      ]
     },
     "execution_count": 22,
     "metadata": {},
     "output_type": "execute_result"
    }
   ],
   "source": [
    "p.clear()\n",
    "p"
   ]
  },
  {
   "cell_type": "code",
   "execution_count": 24,
   "id": "f8e1f5cd",
   "metadata": {},
   "outputs": [
    {
     "name": "stdout",
     "output_type": "stream",
     "text": [
      "[]\n"
     ]
    }
   ],
   "source": [
    "try:\n",
    "    p.clear()\n",
    "    print(p)\n",
    "except Exception as e:\n",
    "    print(e)\n",
    "    "
   ]
  },
  {
   "cell_type": "code",
   "execution_count": 25,
   "id": "9cc426c3",
   "metadata": {},
   "outputs": [
    {
     "name": "stdout",
     "output_type": "stream",
     "text": [
      "[]\n"
     ]
    }
   ],
   "source": [
    "def prime_numbers(number):\n",
    "    try:\n",
    "        p.clear()\n",
    "        print(p)\n",
    "    except Exception as e:\n",
    "        print(e)\n",
    "prime_numbers(p)"
   ]
  },
  {
   "cell_type": "code",
   "execution_count": null,
   "id": "41a725e4",
   "metadata": {},
   "outputs": [],
   "source": []
  }
 ],
 "metadata": {
  "kernelspec": {
   "display_name": "Python 3 (ipykernel)",
   "language": "python",
   "name": "python3"
  },
  "language_info": {
   "codemirror_mode": {
    "name": "ipython",
    "version": 3
   },
   "file_extension": ".py",
   "mimetype": "text/x-python",
   "name": "python",
   "nbconvert_exporter": "python",
   "pygments_lexer": "ipython3",
   "version": "3.9.12"
  }
 },
 "nbformat": 4,
 "nbformat_minor": 5
}
