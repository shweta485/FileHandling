{
 "cells": [
  {
   "cell_type": "code",
   "execution_count": 18,
   "id": "f6ad14b7",
   "metadata": {},
   "outputs": [
    {
     "data": {
      "text/plain": [
       "[10, 20, 30, 30, 40, 50, 13.5]"
      ]
     },
     "execution_count": 18,
     "metadata": {},
     "output_type": "execute_result"
    }
   ],
   "source": [
    "l = [10,20,30,30,40,50,13.5]\n",
    "l"
   ]
  },
  {
   "cell_type": "code",
   "execution_count": 19,
   "id": "484b0bf8",
   "metadata": {},
   "outputs": [],
   "source": [
    "class List_Methods:\n",
    "    def __init__(self, variable):\n",
    "        self.variable = variable\n",
    "    \n",
    "    def min_number(self):\n",
    "        print(min(self.variable))\n",
    "        \n",
    "    def append_method(self,sample):\n",
    "        self.variable.append(sample)\n",
    "        print(self.variable)\n",
    "        \n",
    "    def max_number(self):\n",
    "        print(max(self.variable))\n",
    "        \n",
    "    def pop_method(self):\n",
    "        self.variable.pop()\n",
    "        print(self.variable)\n",
    "        \n",
    "    def reverse_method(self):\n",
    "        self.variable.reverse()\n",
    "        print(self.variable)\n",
    "        \n",
    "    def sort_method(self):\n",
    "        self.variable.sort()\n",
    "        print(self.variable)\n",
    "        \n",
    "    def clear_method(self):\n",
    "        self.variable.clear()\n",
    "        print(self.variable)\n",
    "        \n",
    "    def index_method(self):\n",
    "        self.variable.index(50)\n",
    "        print(self.variable)\n",
    "    \n",
    "        "
   ]
  },
  {
   "cell_type": "code",
   "execution_count": 20,
   "id": "9b70ca98",
   "metadata": {},
   "outputs": [],
   "source": [
    "lm = List_Methods(l)"
   ]
  },
  {
   "cell_type": "code",
   "execution_count": 21,
   "id": "758071f9",
   "metadata": {},
   "outputs": [
    {
     "name": "stdout",
     "output_type": "stream",
     "text": [
      "10\n"
     ]
    }
   ],
   "source": [
    "lm.min_number()"
   ]
  },
  {
   "cell_type": "code",
   "execution_count": 5,
   "id": "a4cf8889",
   "metadata": {},
   "outputs": [
    {
     "name": "stdout",
     "output_type": "stream",
     "text": [
      "[10, 20, 30, 30, 40, 50, 13.5, 45]\n"
     ]
    }
   ],
   "source": [
    "lm.append_method(45)"
   ]
  },
  {
   "cell_type": "code",
   "execution_count": 6,
   "id": "1b605163",
   "metadata": {},
   "outputs": [
    {
     "name": "stdout",
     "output_type": "stream",
     "text": [
      "50\n"
     ]
    }
   ],
   "source": [
    "lm.max_number()"
   ]
  },
  {
   "cell_type": "code",
   "execution_count": 7,
   "id": "1c4ef520",
   "metadata": {},
   "outputs": [
    {
     "name": "stdout",
     "output_type": "stream",
     "text": [
      "[10, 20, 30, 30, 40, 50, 13.5]\n"
     ]
    }
   ],
   "source": [
    "lm.pop_method()"
   ]
  },
  {
   "cell_type": "code",
   "execution_count": 8,
   "id": "288ee7db",
   "metadata": {},
   "outputs": [
    {
     "name": "stdout",
     "output_type": "stream",
     "text": [
      "[13.5, 50, 40, 30, 30, 20, 10]\n"
     ]
    }
   ],
   "source": [
    "lm.reverse_method()"
   ]
  },
  {
   "cell_type": "code",
   "execution_count": 9,
   "id": "ea180028",
   "metadata": {},
   "outputs": [
    {
     "name": "stdout",
     "output_type": "stream",
     "text": [
      "[10, 13.5, 20, 30, 30, 40, 50]\n"
     ]
    }
   ],
   "source": [
    "lm.sort_method()"
   ]
  },
  {
   "cell_type": "code",
   "execution_count": 10,
   "id": "1bf1bb26",
   "metadata": {},
   "outputs": [
    {
     "name": "stdout",
     "output_type": "stream",
     "text": [
      "[]\n"
     ]
    }
   ],
   "source": [
    "lm.clear_method()"
   ]
  },
  {
   "cell_type": "code",
   "execution_count": 22,
   "id": "11ace788",
   "metadata": {},
   "outputs": [
    {
     "ename": "TypeError",
     "evalue": "index_method() takes 1 positional argument but 2 were given",
     "output_type": "error",
     "traceback": [
      "\u001b[1;31m---------------------------------------------------------------------------\u001b[0m",
      "\u001b[1;31mTypeError\u001b[0m                                 Traceback (most recent call last)",
      "Input \u001b[1;32mIn [22]\u001b[0m, in \u001b[0;36m<cell line: 1>\u001b[1;34m()\u001b[0m\n\u001b[1;32m----> 1\u001b[0m \u001b[43mlm\u001b[49m\u001b[38;5;241;43m.\u001b[39;49m\u001b[43mindex_method\u001b[49m\u001b[43m(\u001b[49m\u001b[38;5;241;43m40\u001b[39;49m\u001b[43m)\u001b[49m\n",
      "\u001b[1;31mTypeError\u001b[0m: index_method() takes 1 positional argument but 2 were given"
     ]
    }
   ],
   "source": [
    "lm.index_method(40)"
   ]
  },
  {
   "cell_type": "code",
   "execution_count": null,
   "id": "728d8e8b",
   "metadata": {},
   "outputs": [],
   "source": []
  },
  {
   "cell_type": "code",
   "execution_count": 42,
   "id": "d13d23ce",
   "metadata": {},
   "outputs": [
    {
     "data": {
      "text/plain": [
       "[10, 20, 30, 30, 40, 50, 13.5]"
      ]
     },
     "execution_count": 42,
     "metadata": {},
     "output_type": "execute_result"
    }
   ],
   "source": [
    "l"
   ]
  },
  {
   "cell_type": "code",
   "execution_count": 43,
   "id": "535bdc3f",
   "metadata": {},
   "outputs": [
    {
     "name": "stdout",
     "output_type": "stream",
     "text": [
      "4\n"
     ]
    }
   ],
   "source": [
    "def index_method(list):\n",
    "        print(list.index(40))\n",
    "index_method(l)"
   ]
  },
  {
   "cell_type": "code",
   "execution_count": null,
   "id": "a5f818a6",
   "metadata": {},
   "outputs": [],
   "source": []
  }
 ],
 "metadata": {
  "kernelspec": {
   "display_name": "Python 3 (ipykernel)",
   "language": "python",
   "name": "python3"
  },
  "language_info": {
   "codemirror_mode": {
    "name": "ipython",
    "version": 3
   },
   "file_extension": ".py",
   "mimetype": "text/x-python",
   "name": "python",
   "nbconvert_exporter": "python",
   "pygments_lexer": "ipython3",
   "version": "3.9.12"
  }
 },
 "nbformat": 4,
 "nbformat_minor": 5
}
